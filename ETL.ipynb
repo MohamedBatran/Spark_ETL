{
 "cells": [
  {
   "cell_type": "markdown",
   "id": "d67d4415-5944-4be3-9ad6-e6c2206e8dbb",
   "metadata": {},
   "source": [
    "### Initialize Spark & Extracting Data"
   ]
  },
  {
   "cell_type": "code",
   "execution_count": 26,
   "id": "ffe14326-f4ad-4b06-b33f-77fc4085480b",
   "metadata": {},
   "outputs": [],
   "source": [
    "# Import Used Packages\n",
    "from pyspark.sql import functions  \n",
    "from pyspark.sql.functions import *\n",
    "from pyspark.sql import SparkSession\n",
    "from pyspark.sql.functions import input_file_name"
   ]
  },
  {
   "cell_type": "code",
   "execution_count": 1,
   "id": "2bf65139-54ea-4b39-8054-11c7ca1f6b07",
   "metadata": {},
   "outputs": [],
   "source": [
    "# Initialize Spark Session\n",
    "spark = SparkSession.builder \\\n",
    "    .appName(\"GitHubRepoETL\") \\\n",
    "    .config(\"spark.jars\", \"/home/jovyan/work/postgresql-42.7.5.jar\") \\\n",
    "    .getOrCreate()"
   ]
  },
  {
   "cell_type": "code",
   "execution_count": 2,
   "id": "c2de5ec5-37f5-4514-b0b5-712faf8a85cc",
   "metadata": {
    "scrolled": true
   },
   "outputs": [
    {
     "name": "stdout",
     "output_type": "stream",
     "text": [
      "+----------+--------------------+----------+----------+----------+--------+-----------+-----------+\n",
      "|schemaname|           tablename|tableowner|tablespace|hasindexes|hasrules|hastriggers|rowsecurity|\n",
      "+----------+--------------------+----------+----------+----------+--------+-----------+-----------+\n",
      "|pg_catalog|        pg_statistic|     admin|      NULL|      true|   false|      false|      false|\n",
      "|pg_catalog|             pg_type|     admin|      NULL|      true|   false|      false|      false|\n",
      "|pg_catalog|    pg_foreign_table|     admin|      NULL|      true|   false|      false|      false|\n",
      "|pg_catalog|           pg_authid|     admin| pg_global|      true|   false|      false|      false|\n",
      "|pg_catalog|pg_statistic_ext_...|     admin|      NULL|      true|   false|      false|      false|\n",
      "|pg_catalog|     pg_user_mapping|     admin|      NULL|      true|   false|      false|      false|\n",
      "|pg_catalog|     pg_subscription|     admin| pg_global|      true|   false|      false|      false|\n",
      "|pg_catalog|        pg_attribute|     admin|      NULL|      true|   false|      false|      false|\n",
      "|pg_catalog|             pg_proc|     admin|      NULL|      true|   false|      false|      false|\n",
      "|pg_catalog|            pg_class|     admin|      NULL|      true|   false|      false|      false|\n",
      "|pg_catalog|          pg_attrdef|     admin|      NULL|      true|   false|      false|      false|\n",
      "|pg_catalog|       pg_constraint|     admin|      NULL|      true|   false|      false|      false|\n",
      "|pg_catalog|         pg_inherits|     admin|      NULL|      true|   false|      false|      false|\n",
      "|pg_catalog|            pg_index|     admin|      NULL|      true|   false|      false|      false|\n",
      "|pg_catalog|         pg_operator|     admin|      NULL|      true|   false|      false|      false|\n",
      "|pg_catalog|         pg_opfamily|     admin|      NULL|      true|   false|      false|      false|\n",
      "|pg_catalog|          pg_opclass|     admin|      NULL|      true|   false|      false|      false|\n",
      "|pg_catalog|               pg_am|     admin|      NULL|      true|   false|      false|      false|\n",
      "|pg_catalog|             pg_amop|     admin|      NULL|      true|   false|      false|      false|\n",
      "|pg_catalog|           pg_amproc|     admin|      NULL|      true|   false|      false|      false|\n",
      "+----------+--------------------+----------+----------+----------+--------+-----------+-----------+\n",
      "only showing top 20 rows\n",
      "\n"
     ]
    }
   ],
   "source": [
    "# PostgreSQL Connection \n",
    "jdbc_url = \"jdbc:postgresql://postgres_db:5432/github_data\"\n",
    "\n",
    "properties = {\n",
    "    \"user\": \"admin\",\n",
    "    \"password\": \"admin123\",\n",
    "    \"driver\": \"org.postgresql.Driver\"\n",
    "}\n",
    "df = spark.read.jdbc(url=jdbc_url, table=\"pg_catalog.pg_tables\", properties=properties)\n",
    "df.show()"
   ]
  },
  {
   "cell_type": "code",
   "execution_count": 3,
   "id": "8ce854a3-abdd-44d3-996e-7d7b2c801b72",
   "metadata": {},
   "outputs": [],
   "source": [
    "# Extract The Data\n",
    "import os\n",
    "json_path = \"Data/*.json\"\n",
    "\n",
    "df = spark.read.json(json_path)"
   ]
  },
  {
   "cell_type": "markdown",
   "id": "2b909743-90d8-49c2-a3a7-47cf835eed6d",
   "metadata": {},
   "source": [
    "### EDA"
   ]
  },
  {
   "cell_type": "code",
   "execution_count": 4,
   "id": "66bb8102-b510-41f8-a3fb-06599b6c3115",
   "metadata": {},
   "outputs": [
    {
     "name": "stdout",
     "output_type": "stream",
     "text": [
      "root\n",
      " |-- _corrupt_record: string (nullable = true)\n",
      " |-- created: string (nullable = true)\n",
      " |-- description: string (nullable = true)\n",
      " |-- forks: long (nullable = true)\n",
      " |-- full_name: string (nullable = true)\n",
      " |-- id: long (nullable = true)\n",
      " |-- language: string (nullable = true)\n",
      " |-- open_issues: long (nullable = true)\n",
      " |-- repo_name: string (nullable = true)\n",
      " |-- stars: long (nullable = true)\n",
      " |-- subscribers: long (nullable = true)\n",
      " |-- topics: array (nullable = true)\n",
      " |    |-- element: string (containsNull = true)\n",
      " |-- type: string (nullable = true)\n",
      " |-- username: string (nullable = true)\n",
      "\n"
     ]
    }
   ],
   "source": [
    "df.printSchema()"
   ]
  },
  {
   "cell_type": "code",
   "execution_count": 11,
   "id": "75c2609a-8ec5-411c-b720-7eb850ae8a4d",
   "metadata": {},
   "outputs": [
    {
     "name": "stdout",
     "output_type": "stream",
     "text": [
      "+---------------+-------------------+--------------------+-----+--------------------+---------+--------+-----------+-----------------+-----+-----------+--------------------+------------+---------+--------------------+---------------+\n",
      "|_corrupt_record|            created|         description|forks|           full_name|       id|language|open_issues|        repo_name|stars|subscribers|              topics|        type| username|         search_term|relevance_score|\n",
      "+---------------+-------------------+--------------------+-----+--------------------+---------+--------+-----------+-----------------+-----+-----------+--------------------+------------+---------+--------------------+---------------+\n",
      "|           NULL|2014-02-25 08:00:08|Apache Spark - A ...|25357|        apache/spark| 17165658|   Scala|        242|            spark|32296|       2080|[python, scala, r...|Organization|   apache|file:///home/jovy...|       74368.94|\n",
      "|           NULL|2017-08-09 19:39:59|Distributed train...| 2027|     horovod/horovod| 99846383|  Python|        298|          horovod|12219|        334|[tensorflow, uber...|Organization|  horovod|file:///home/jovy...|       16189.14|\n",
      "|           NULL|2014-08-08 07:30:51|Notes talking abo...| 1773|JerryLead/SparkIn...| 22749672|    NULL|         27|   SparkInternals| 4774|        619|                  []|        User|JerryLead|file:///home/jovy...|        8441.54|\n",
      "|           NULL|2019-04-22 18:56:51|An open-source st...|  985|      delta-io/delta|182849188|   Scala|        180|            delta| 4164|        188|[spark, acid, big...|Organization| delta-io|file:///home/jovy...|        6056.22|\n",
      "|           NULL|2017-01-20 18:15:57|TensorFlowOnSpark...|  966|yahoo/TensorFlowO...| 79584587|  Python|          6|TensorFlowOnSpark| 3768|        286|[tensorflow, spar...|Organization|    yahoo|file:///home/jovy...|        5745.24|\n",
      "+---------------+-------------------+--------------------+-----+--------------------+---------+--------+-----------+-----------------+-----+-----------+--------------------+------------+---------+--------------------+---------------+\n",
      "only showing top 5 rows\n",
      "\n"
     ]
    }
   ],
   "source": [
    "df.show(5)"
   ]
  },
  {
   "cell_type": "code",
   "execution_count": 12,
   "id": "44ff0fc3-4031-4f52-b9f5-4dbaff8367b9",
   "metadata": {},
   "outputs": [
    {
     "data": {
      "text/plain": [
       "27281"
      ]
     },
     "execution_count": 12,
     "metadata": {},
     "output_type": "execute_result"
    }
   ],
   "source": [
    "df.count()"
   ]
  },
  {
   "cell_type": "code",
   "execution_count": 14,
   "id": "f875a220-fbd0-4e2f-acf4-e867f0d831d8",
   "metadata": {},
   "outputs": [
    {
     "name": "stdout",
     "output_type": "stream",
     "text": [
      "+-------+--------------------+-------------------+--------------------+------------------+--------------------+--------------------+----------+-----------------+------------------+-----------------+------------------+------------+--------------------+--------------------+------------------+\n",
      "|summary|     _corrupt_record|            created|         description|             forks|           full_name|                  id|  language|      open_issues|         repo_name|            stars|       subscribers|        type|            username|         search_term|   relevance_score|\n",
      "+-------+--------------------+-------------------+--------------------+------------------+--------------------+--------------------+----------+-----------------+------------------+-----------------+------------------+------------+--------------------+--------------------+------------------+\n",
      "|  count|                   1|              27273|               26645|             27269|               27279|               27280|     25856|            27267|             27280|            27269|             27268|       27271|               27271|               27281|             27268|\n",
      "|   mean|                NULL|               NULL|                NULL| 432.0406688914152|                NULL|1.2772809867357038E8|      NULL|58.17867752227968|               NaN|2069.074883567421| 76.33031392107965|        NULL|1.4756650876470587E9|                NULL| 2900.706197007469|\n",
      "| stddev|                NULL|               NULL|                NULL|1654.4795468873538|                NULL|1.0396435220669328E8|      NULL|256.0332431925857|               NaN|5756.062417896173|219.78122712611923|        NULL| 4.436666727695555E9|                NULL|   8405.1483641757|\n",
      "|    min|[{\"id\": 31792824,...|2008-03-05 18:55:38|      CREDITS SEQ...|                 0|01joy/news-search...|                2667|AGS Script|                0|--Awesome-Python--|                1|                 0|Organization|               01joy|file:///home/jovy...|              1.04|\n",
      "|    max|[{\"id\": 31792824,...|2022-04-04 10:04:40|🪙 Metadatas, ico...|             86435|zzzprojects/html-...|           477644028|      YARA|            11328|               zzf|           188605|              7902|        User|         zzzprojects|file:///home/jovy...|309867.30000000005|\n",
      "+-------+--------------------+-------------------+--------------------+------------------+--------------------+--------------------+----------+-----------------+------------------+-----------------+------------------+------------+--------------------+--------------------+------------------+\n",
      "\n"
     ]
    }
   ],
   "source": [
    "df_summary = df.describe()\n",
    "df_summary.show()"
   ]
  },
  {
   "cell_type": "code",
   "execution_count": 19,
   "id": "54301b45-2d1f-4721-b4b6-c1f2152537a4",
   "metadata": {},
   "outputs": [
    {
     "name": "stdout",
     "output_type": "stream",
     "text": [
      "+------------+\n",
      "|        type|\n",
      "+------------+\n",
      "|Organization|\n",
      "|        User|\n",
      "|        NULL|\n",
      "+------------+\n",
      "\n"
     ]
    }
   ],
   "source": [
    "df.select(\"type\").distinct().show()"
   ]
  },
  {
   "cell_type": "code",
   "execution_count": 20,
   "id": "65637032-1415-4752-bfb4-5cb296b3b448",
   "metadata": {},
   "outputs": [
    {
     "name": "stdout",
     "output_type": "stream",
     "text": [
      "+------------+-----+\n",
      "|        type|count|\n",
      "+------------+-----+\n",
      "|        NULL|   10|\n",
      "|Organization|11276|\n",
      "|        User|15995|\n",
      "+------------+-----+\n",
      "\n"
     ]
    }
   ],
   "source": [
    "df.groupBy(\"type\").count().show()"
   ]
  },
  {
   "cell_type": "code",
   "execution_count": 22,
   "id": "7cb34139-5200-423a-881b-859d9d6592d0",
   "metadata": {},
   "outputs": [
    {
     "name": "stdout",
     "output_type": "stream",
     "text": [
      "+----------------+-----+\n",
      "|        language|count|\n",
      "+----------------+-----+\n",
      "|      JavaScript| 5293|\n",
      "|          Python| 4861|\n",
      "|      TypeScript| 2816|\n",
      "|              Go| 1868|\n",
      "|            NULL| 1425|\n",
      "|            Java| 1418|\n",
      "|Jupyter Notebook| 1291|\n",
      "|           Scala| 1178|\n",
      "|             C++|  952|\n",
      "|            Dart|  855|\n",
      "+----------------+-----+\n",
      "only showing top 10 rows\n",
      "\n"
     ]
    }
   ],
   "source": [
    "df.groupBy(\"language\").count().orderBy(\"count\", ascending=False).show(10)"
   ]
  },
  {
   "cell_type": "code",
   "execution_count": 23,
   "id": "e7cb7fa6-1766-4a71-954d-eb4f70708cae",
   "metadata": {},
   "outputs": [
    {
     "data": {
      "text/plain": [
       "0.8205940403273477"
      ]
     },
     "execution_count": 23,
     "metadata": {},
     "output_type": "execute_result"
    }
   ],
   "source": [
    "df.select(\"stars\", \"forks\").stat.corr(\"stars\", \"forks\")"
   ]
  },
  {
   "cell_type": "code",
   "execution_count": 24,
   "id": "ff3776dc-4c0c-43c4-a4b8-a97e30a7843f",
   "metadata": {},
   "outputs": [
    {
     "name": "stdout",
     "output_type": "stream",
     "text": [
      "+-------------------------------+------+\n",
      "|full_name                      |stars |\n",
      "+-------------------------------+------+\n",
      "|kamranahmedse/developer-roadmap|188605|\n",
      "|facebook/react                 |184156|\n",
      "|tensorflow/tensorflow          |163254|\n",
      "|tensorflow/tensorflow          |163249|\n",
      "|tensorflow/tensorflow          |163247|\n",
      "|ohmyzsh/ohmyzsh                |141449|\n",
      "|flutter/flutter                |137350|\n",
      "|microsoft/vscode               |128959|\n",
      "|facebook/react-native          |101603|\n",
      "|facebook/react-native          |101540|\n",
      "+-------------------------------+------+\n",
      "only showing top 10 rows\n",
      "\n"
     ]
    }
   ],
   "source": [
    "df.select(\"full_name\", \"stars\").orderBy(col(\"stars\").desc()).show(10, False)"
   ]
  },
  {
   "cell_type": "code",
   "execution_count": 25,
   "id": "e3029e67-c5e0-4182-8dea-29d24443ccf0",
   "metadata": {},
   "outputs": [
    {
     "name": "stdout",
     "output_type": "stream",
     "text": [
      "+---------------+-----+\n",
      "|       username|count|\n",
      "+---------------+-----+\n",
      "|      microsoft|  186|\n",
      "|         google|   92|\n",
      "|     tensorflow|   90|\n",
      "|         apache|   69|\n",
      "|    aws-samples|   67|\n",
      "|  jeromeetienne|   48|\n",
      "|PacktPublishing|   47|\n",
      "|       ethereum|   45|\n",
      "|       jazzband|   40|\n",
      "|        awslabs|   38|\n",
      "+---------------+-----+\n",
      "only showing top 10 rows\n",
      "\n"
     ]
    }
   ],
   "source": [
    "df.groupBy(\"username\").count().orderBy(col(\"count\").desc()).show(10)"
   ]
  },
  {
   "cell_type": "code",
   "execution_count": 18,
   "id": "13f18f70-fd1e-4fba-9f1c-a4f9f88b27e4",
   "metadata": {},
   "outputs": [
    {
     "name": "stdout",
     "output_type": "stream",
     "text": [
      "+-----------------+---------+---------+\n",
      "|        Avg Stars|Min Stars|Max Stars|\n",
      "+-----------------+---------+---------+\n",
      "|2069.074883567421|        1|   188605|\n",
      "+-----------------+---------+---------+\n",
      "\n"
     ]
    }
   ],
   "source": [
    "df.select(\n",
    "    mean(\"stars\").alias(\"Avg Stars\"),\n",
    "    min(\"stars\").alias(\"Min Stars\"),\n",
    "    max(\"stars\").alias(\"Max Stars\")\n",
    ").show()"
   ]
  },
  {
   "cell_type": "markdown",
   "id": "7973504b-3754-49cf-b657-3f8bfe7bd9c7",
   "metadata": {},
   "source": [
    "### Data Transformations & Loading in the db"
   ]
  },
  {
   "cell_type": "code",
   "execution_count": 6,
   "id": "4fc16241-be08-4acf-b3bf-b31e8d609183",
   "metadata": {},
   "outputs": [],
   "source": [
    "# Transformations\n",
    "programming_lang_df = df.groupBy(\"language\").count().withColumnRenamed(\"count\", \"repo_count\")\n",
    "\n",
    "# Load in db\n",
    "programming_lang_df.write \\\n",
    "    .format(\"jdbc\") \\\n",
    "    .option(\"url\", jdbc_url) \\\n",
    "    .option(\"dbtable\", \"programming_lang\") \\\n",
    "    .option(\"user\", \"admin\") \\\n",
    "    .option(\"password\", \"admin123\") \\\n",
    "    .option(\"driver\", \"org.postgresql.Driver\") \\\n",
    "    .mode(\"overwrite\") \\\n",
    "    .save()"
   ]
  },
  {
   "cell_type": "code",
   "execution_count": 9,
   "id": "b0553c41-2447-4b7b-9be1-9761f6b8640e",
   "metadata": {},
   "outputs": [],
   "source": [
    "# Transformtions\n",
    "org_stars_df = df.filter(df[\"type\"] == \"Organization\").groupBy(\"username\").agg(F.sum(\"stars\").alias(\"total_stars\"))\n",
    "\n",
    "# Load in db\n",
    "org_stars_df.write \\\n",
    "    .format(\"jdbc\") \\\n",
    "    .option(\"url\", jdbc_url) \\\n",
    "    .option(\"dbtable\", \"organizations_stars\") \\\n",
    "    .option(\"user\", \"admin\") \\\n",
    "    .option(\"password\", \"admin123\") \\\n",
    "    .option(\"driver\", \"org.postgresql.Driver\") \\\n",
    "    .mode(\"overwrite\") \\\n",
    "    .save()\n"
   ]
  },
  {
   "cell_type": "code",
   "execution_count": 10,
   "id": "89b60360-f426-4b23-b202-1956b0521834",
   "metadata": {},
   "outputs": [],
   "source": [
    "#Transformations\n",
    "df = df.withColumn(\"search_term\", input_file_name())\n",
    "df = df.withColumn(\"relevance_score\", 1.5 * df.forks + 1.32 * df.subscribers + 1.04 * df.stars)\n",
    "search_terms_df = df.select(\"search_term\", \"relevance_score\")\n",
    "\n",
    "# Load in db\n",
    "search_terms_df.write \\\n",
    "    .format(\"jdbc\") \\\n",
    "    .option(\"url\", jdbc_url) \\\n",
    "    .option(\"dbtable\", \"search_terms_relevance\") \\\n",
    "    .option(\"user\", \"admin\") \\\n",
    "    .option(\"password\", \"admin123\") \\\n",
    "    .option(\"driver\", \"org.postgresql.Driver\") \\\n",
    "    .mode(\"overwrite\") \\\n",
    "    .save()"
   ]
  },
  {
   "cell_type": "code",
   "execution_count": null,
   "id": "939f96d0-cc7b-458d-8fb7-7659178e7645",
   "metadata": {},
   "outputs": [],
   "source": []
  }
 ],
 "metadata": {
  "kernelspec": {
   "display_name": "Python 3 (ipykernel)",
   "language": "python",
   "name": "python3"
  },
  "language_info": {
   "codemirror_mode": {
    "name": "ipython",
    "version": 3
   },
   "file_extension": ".py",
   "mimetype": "text/x-python",
   "name": "python",
   "nbconvert_exporter": "python",
   "pygments_lexer": "ipython3",
   "version": "3.11.6"
  }
 },
 "nbformat": 4,
 "nbformat_minor": 5
}
